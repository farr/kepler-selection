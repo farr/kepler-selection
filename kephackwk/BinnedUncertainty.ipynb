{
 "cells": [
  {
   "cell_type": "code",
   "execution_count": 1,
   "metadata": {
    "collapsed": false
   },
   "outputs": [
    {
     "data": {
      "text/plain": [
       "3-element Array{ByteString,1}:\n",
       " \"/Users/farr/Documents/code/julia/usr/local/share/julia/site/v0.5\"               \n",
       " \"/Users/farr/Documents/code/julia/usr/share/julia/site/v0.5\"                     \n",
       " \"/Users/farr/Documents/Research/Selection/Fourth-Year/kepler-selection/kephackwk\""
      ]
     },
     "execution_count": 1,
     "metadata": {},
     "output_type": "execute_result"
    }
   ],
   "source": [
    "push!(LOAD_PATH, pwd())"
   ]
  },
  {
   "cell_type": "code",
   "execution_count": 2,
   "metadata": {
    "collapsed": false
   },
   "outputs": [
    {
     "name": "stderr",
     "output_type": "stream",
     "text": [
      "INFO: Recompiling stale cache file /Users/farr/.julia/lib/v0.5/Colors.ji for module Colors.\n",
      "INFO: Precompiling module Gadfly...\n"
     ]
    },
    {
     "ename": "LoadError",
     "evalue": "LoadError: LoadError: LoadError: Failed to precompile Gadfly to /Users/farr/.julia/lib/v0.5/Gadfly.ji\nwhile loading /Users/farr/.julia/v0.5/Ensemble/src/Plots.jl, in expression starting on line 4\nwhile loading /Users/farr/.julia/v0.5/Ensemble/src/Ensemble.jl, in expression starting on line 8\nwhile loading In[2], in expression starting on line 2",
     "output_type": "error",
     "traceback": [
      "LoadError: LoadError: LoadError: Failed to precompile Gadfly to /Users/farr/.julia/lib/v0.5/Gadfly.ji\nwhile loading /Users/farr/.julia/v0.5/Ensemble/src/Plots.jl, in expression starting on line 4\nwhile loading /Users/farr/.julia/v0.5/Ensemble/src/Ensemble.jl, in expression starting on line 8\nwhile loading In[2], in expression starting on line 2",
      "",
      " in error at ./error.jl:21",
      " in compilecache at loading.jl:470",
      " in require at ./loading.jl:339",
      " in include at ./boot.jl:261",
      " in include_from_node1 at ./loading.jl:392",
      " in include at ./boot.jl:261",
      " in include_from_node1 at ./loading.jl:392",
      " in eval at ./boot.jl:264",
      " [inlined code] from ./sysimg.jl:14",
      " in require at ./loading.jl:332",
      " [inlined code] from essentials.jl:114"
     ]
    }
   ],
   "source": [
    "using Binned\n",
    "using Ensemble\n",
    "using Gadfly"
   ]
  },
  {
   "cell_type": "code",
   "execution_count": 9,
   "metadata": {
    "collapsed": false
   },
   "outputs": [
    {
     "name": "stderr",
     "output_type": "stream",
     "text": [
      "INFO: Precompiling module Gadfly...\n"
     ]
    },
    {
     "ename": "LoadError",
     "evalue": "LoadError: Failed to precompile Gadfly to /Users/farr/.julia/lib/v0.5/Gadfly.ji\nwhile loading In[9], in expression starting on line 1",
     "output_type": "error",
     "traceback": [
      "LoadError: Failed to precompile Gadfly to /Users/farr/.julia/lib/v0.5/Gadfly.ji\nwhile loading In[9], in expression starting on line 1",
      "",
      " in error at ./error.jl:21",
      " in compilecache at loading.jl:470",
      " in require at ./loading.jl:339",
      " [inlined code] from essentials.jl:114"
     ]
    }
   ],
   "source": [
    "using Gadfly"
   ]
  },
  {
   "cell_type": "code",
   "execution_count": null,
   "metadata": {
    "collapsed": true
   },
   "outputs": [],
   "source": []
  }
 ],
 "metadata": {
  "kernelspec": {
   "display_name": "Julia 0.5.0-dev",
   "language": "julia",
   "name": "julia-0.5"
  },
  "language_info": {
   "file_extension": ".jl",
   "mimetype": "application/julia",
   "name": "julia",
   "version": "0.5.0"
  }
 },
 "nbformat": 4,
 "nbformat_minor": 0
}
